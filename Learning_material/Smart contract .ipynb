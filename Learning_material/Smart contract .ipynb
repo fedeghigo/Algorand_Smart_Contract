{
 "cells": [
  {
   "cell_type": "markdown",
   "metadata": {},
   "source": [
    "Requirements"
   ]
  },
  {
   "cell_type": "markdown",
   "metadata": {},
   "source": [
    "Algo Signer - https://chrome.google.com/webstore/detail/algosigner/kmmolakhbgdlpkjkcjkebenjheonagdm  \n",
    "Wallet connect - https://cloud.walletconnect.com/sign-up  \n",
    "Api Pure Stake - https://developer.purestake.io/home"
   ]
  },
  {
   "cell_type": "code",
   "execution_count": null,
   "metadata": {},
   "outputs": [],
   "source": []
  },
  {
   "cell_type": "markdown",
   "metadata": {},
   "source": [
    "Tutorial : https://developer.algorand.org/docs/archive/build-apps/connect/"
   ]
  },
  {
   "cell_type": "code",
   "execution_count": null,
   "metadata": {},
   "outputs": [],
   "source": [
    "from algosdk.v2client import algod\n",
    "\n",
    "algod_address = \"http://localhost:4001\"\n",
    "algod_token = \"aaaaaaaaaaaaaaaaaaaaaaaaaaaaaaaaaaaaaaaaaaaaaaaaaaaaaaaaaaaaaaaa\"\n",
    "algod_client = algod.AlgodClient(algod_token, algod_address)"
   ]
  },
  {
   "cell_type": "code",
   "execution_count": 6,
   "metadata": {},
   "outputs": [],
   "source": [
    "from algosdk.v2client import algod\n",
    "\n",
    "algod_address = \"http://localhost:4001\"\n",
    "algod_token = \"\"\n",
    "headers = {\n",
    "    \"X-API-Key\": \"aaaaaaaaaaaaaaaaaaaaaaaaaaaaaaaaaaaaaaaaaaaaaaaaaaaaaaaaaaaaaaaa\",\n",
    "}\n",
    "\n",
    "algod_client = algod.AlgodClient(algod_token, algod_address, headers)"
   ]
  },
  {
   "cell_type": "code",
   "execution_count": 7,
   "metadata": {},
   "outputs": [
    {
     "ename": "URLError",
     "evalue": "<urlopen error [WinError 10061] Impossibile stabilire la connessione. Rifiuto persistente del computer di destinazione>",
     "output_type": "error",
     "traceback": [
      "\u001b[1;31m---------------------------------------------------------------------------\u001b[0m",
      "\u001b[1;31mConnectionRefusedError\u001b[0m                    Traceback (most recent call last)",
      "File \u001b[1;32mc:\\Users\\finnocenti\\Anaconda3\\envs\\Algorand\\lib\\urllib\\request.py:1346\u001b[0m, in \u001b[0;36mAbstractHTTPHandler.do_open\u001b[1;34m(self, http_class, req, **http_conn_args)\u001b[0m\n\u001b[0;32m   <a href='file:///c%3A/Users/finnocenti/Anaconda3/envs/Algorand/lib/urllib/request.py?line=1344'>1345</a>\u001b[0m \u001b[39mtry\u001b[39;00m:\n\u001b[1;32m-> <a href='file:///c%3A/Users/finnocenti/Anaconda3/envs/Algorand/lib/urllib/request.py?line=1345'>1346</a>\u001b[0m     h\u001b[39m.\u001b[39;49mrequest(req\u001b[39m.\u001b[39;49mget_method(), req\u001b[39m.\u001b[39;49mselector, req\u001b[39m.\u001b[39;49mdata, headers,\n\u001b[0;32m   <a href='file:///c%3A/Users/finnocenti/Anaconda3/envs/Algorand/lib/urllib/request.py?line=1346'>1347</a>\u001b[0m               encode_chunked\u001b[39m=\u001b[39;49mreq\u001b[39m.\u001b[39;49mhas_header(\u001b[39m'\u001b[39;49m\u001b[39mTransfer-encoding\u001b[39;49m\u001b[39m'\u001b[39;49m))\n\u001b[0;32m   <a href='file:///c%3A/Users/finnocenti/Anaconda3/envs/Algorand/lib/urllib/request.py?line=1347'>1348</a>\u001b[0m \u001b[39mexcept\u001b[39;00m \u001b[39mOSError\u001b[39;00m \u001b[39mas\u001b[39;00m err: \u001b[39m# timeout error\u001b[39;00m\n",
      "File \u001b[1;32mc:\\Users\\finnocenti\\Anaconda3\\envs\\Algorand\\lib\\http\\client.py:1285\u001b[0m, in \u001b[0;36mHTTPConnection.request\u001b[1;34m(self, method, url, body, headers, encode_chunked)\u001b[0m\n\u001b[0;32m   <a href='file:///c%3A/Users/finnocenti/Anaconda3/envs/Algorand/lib/http/client.py?line=1283'>1284</a>\u001b[0m \u001b[39m\"\"\"Send a complete request to the server.\"\"\"\u001b[39;00m\n\u001b[1;32m-> <a href='file:///c%3A/Users/finnocenti/Anaconda3/envs/Algorand/lib/http/client.py?line=1284'>1285</a>\u001b[0m \u001b[39mself\u001b[39;49m\u001b[39m.\u001b[39;49m_send_request(method, url, body, headers, encode_chunked)\n",
      "File \u001b[1;32mc:\\Users\\finnocenti\\Anaconda3\\envs\\Algorand\\lib\\http\\client.py:1331\u001b[0m, in \u001b[0;36mHTTPConnection._send_request\u001b[1;34m(self, method, url, body, headers, encode_chunked)\u001b[0m\n\u001b[0;32m   <a href='file:///c%3A/Users/finnocenti/Anaconda3/envs/Algorand/lib/http/client.py?line=1329'>1330</a>\u001b[0m     body \u001b[39m=\u001b[39m _encode(body, \u001b[39m'\u001b[39m\u001b[39mbody\u001b[39m\u001b[39m'\u001b[39m)\n\u001b[1;32m-> <a href='file:///c%3A/Users/finnocenti/Anaconda3/envs/Algorand/lib/http/client.py?line=1330'>1331</a>\u001b[0m \u001b[39mself\u001b[39;49m\u001b[39m.\u001b[39;49mendheaders(body, encode_chunked\u001b[39m=\u001b[39;49mencode_chunked)\n",
      "File \u001b[1;32mc:\\Users\\finnocenti\\Anaconda3\\envs\\Algorand\\lib\\http\\client.py:1280\u001b[0m, in \u001b[0;36mHTTPConnection.endheaders\u001b[1;34m(self, message_body, encode_chunked)\u001b[0m\n\u001b[0;32m   <a href='file:///c%3A/Users/finnocenti/Anaconda3/envs/Algorand/lib/http/client.py?line=1278'>1279</a>\u001b[0m     \u001b[39mraise\u001b[39;00m CannotSendHeader()\n\u001b[1;32m-> <a href='file:///c%3A/Users/finnocenti/Anaconda3/envs/Algorand/lib/http/client.py?line=1279'>1280</a>\u001b[0m \u001b[39mself\u001b[39;49m\u001b[39m.\u001b[39;49m_send_output(message_body, encode_chunked\u001b[39m=\u001b[39;49mencode_chunked)\n",
      "File \u001b[1;32mc:\\Users\\finnocenti\\Anaconda3\\envs\\Algorand\\lib\\http\\client.py:1040\u001b[0m, in \u001b[0;36mHTTPConnection._send_output\u001b[1;34m(self, message_body, encode_chunked)\u001b[0m\n\u001b[0;32m   <a href='file:///c%3A/Users/finnocenti/Anaconda3/envs/Algorand/lib/http/client.py?line=1038'>1039</a>\u001b[0m \u001b[39mdel\u001b[39;00m \u001b[39mself\u001b[39m\u001b[39m.\u001b[39m_buffer[:]\n\u001b[1;32m-> <a href='file:///c%3A/Users/finnocenti/Anaconda3/envs/Algorand/lib/http/client.py?line=1039'>1040</a>\u001b[0m \u001b[39mself\u001b[39;49m\u001b[39m.\u001b[39;49msend(msg)\n\u001b[0;32m   <a href='file:///c%3A/Users/finnocenti/Anaconda3/envs/Algorand/lib/http/client.py?line=1041'>1042</a>\u001b[0m \u001b[39mif\u001b[39;00m message_body \u001b[39mis\u001b[39;00m \u001b[39mnot\u001b[39;00m \u001b[39mNone\u001b[39;00m:\n\u001b[0;32m   <a href='file:///c%3A/Users/finnocenti/Anaconda3/envs/Algorand/lib/http/client.py?line=1042'>1043</a>\u001b[0m \n\u001b[0;32m   <a href='file:///c%3A/Users/finnocenti/Anaconda3/envs/Algorand/lib/http/client.py?line=1043'>1044</a>\u001b[0m     \u001b[39m# create a consistent interface to message_body\u001b[39;00m\n",
      "File \u001b[1;32mc:\\Users\\finnocenti\\Anaconda3\\envs\\Algorand\\lib\\http\\client.py:980\u001b[0m, in \u001b[0;36mHTTPConnection.send\u001b[1;34m(self, data)\u001b[0m\n\u001b[0;32m    <a href='file:///c%3A/Users/finnocenti/Anaconda3/envs/Algorand/lib/http/client.py?line=978'>979</a>\u001b[0m \u001b[39mif\u001b[39;00m \u001b[39mself\u001b[39m\u001b[39m.\u001b[39mauto_open:\n\u001b[1;32m--> <a href='file:///c%3A/Users/finnocenti/Anaconda3/envs/Algorand/lib/http/client.py?line=979'>980</a>\u001b[0m     \u001b[39mself\u001b[39;49m\u001b[39m.\u001b[39;49mconnect()\n\u001b[0;32m    <a href='file:///c%3A/Users/finnocenti/Anaconda3/envs/Algorand/lib/http/client.py?line=980'>981</a>\u001b[0m \u001b[39melse\u001b[39;00m:\n",
      "File \u001b[1;32mc:\\Users\\finnocenti\\Anaconda3\\envs\\Algorand\\lib\\http\\client.py:946\u001b[0m, in \u001b[0;36mHTTPConnection.connect\u001b[1;34m(self)\u001b[0m\n\u001b[0;32m    <a href='file:///c%3A/Users/finnocenti/Anaconda3/envs/Algorand/lib/http/client.py?line=944'>945</a>\u001b[0m \u001b[39m\"\"\"Connect to the host and port specified in __init__.\"\"\"\u001b[39;00m\n\u001b[1;32m--> <a href='file:///c%3A/Users/finnocenti/Anaconda3/envs/Algorand/lib/http/client.py?line=945'>946</a>\u001b[0m \u001b[39mself\u001b[39m\u001b[39m.\u001b[39msock \u001b[39m=\u001b[39m \u001b[39mself\u001b[39;49m\u001b[39m.\u001b[39;49m_create_connection(\n\u001b[0;32m    <a href='file:///c%3A/Users/finnocenti/Anaconda3/envs/Algorand/lib/http/client.py?line=946'>947</a>\u001b[0m     (\u001b[39mself\u001b[39;49m\u001b[39m.\u001b[39;49mhost,\u001b[39mself\u001b[39;49m\u001b[39m.\u001b[39;49mport), \u001b[39mself\u001b[39;49m\u001b[39m.\u001b[39;49mtimeout, \u001b[39mself\u001b[39;49m\u001b[39m.\u001b[39;49msource_address)\n\u001b[0;32m    <a href='file:///c%3A/Users/finnocenti/Anaconda3/envs/Algorand/lib/http/client.py?line=947'>948</a>\u001b[0m \u001b[39m# Might fail in OSs that don't implement TCP_NODELAY\u001b[39;00m\n",
      "File \u001b[1;32mc:\\Users\\finnocenti\\Anaconda3\\envs\\Algorand\\lib\\socket.py:844\u001b[0m, in \u001b[0;36mcreate_connection\u001b[1;34m(address, timeout, source_address)\u001b[0m\n\u001b[0;32m    <a href='file:///c%3A/Users/finnocenti/Anaconda3/envs/Algorand/lib/socket.py?line=842'>843</a>\u001b[0m \u001b[39mtry\u001b[39;00m:\n\u001b[1;32m--> <a href='file:///c%3A/Users/finnocenti/Anaconda3/envs/Algorand/lib/socket.py?line=843'>844</a>\u001b[0m     \u001b[39mraise\u001b[39;00m err\n\u001b[0;32m    <a href='file:///c%3A/Users/finnocenti/Anaconda3/envs/Algorand/lib/socket.py?line=844'>845</a>\u001b[0m \u001b[39mfinally\u001b[39;00m:\n\u001b[0;32m    <a href='file:///c%3A/Users/finnocenti/Anaconda3/envs/Algorand/lib/socket.py?line=845'>846</a>\u001b[0m     \u001b[39m# Break explicitly a reference cycle\u001b[39;00m\n",
      "File \u001b[1;32mc:\\Users\\finnocenti\\Anaconda3\\envs\\Algorand\\lib\\socket.py:832\u001b[0m, in \u001b[0;36mcreate_connection\u001b[1;34m(address, timeout, source_address)\u001b[0m\n\u001b[0;32m    <a href='file:///c%3A/Users/finnocenti/Anaconda3/envs/Algorand/lib/socket.py?line=830'>831</a>\u001b[0m     sock\u001b[39m.\u001b[39mbind(source_address)\n\u001b[1;32m--> <a href='file:///c%3A/Users/finnocenti/Anaconda3/envs/Algorand/lib/socket.py?line=831'>832</a>\u001b[0m sock\u001b[39m.\u001b[39;49mconnect(sa)\n\u001b[0;32m    <a href='file:///c%3A/Users/finnocenti/Anaconda3/envs/Algorand/lib/socket.py?line=832'>833</a>\u001b[0m \u001b[39m# Break explicitly a reference cycle\u001b[39;00m\n",
      "\u001b[1;31mConnectionRefusedError\u001b[0m: [WinError 10061] Impossibile stabilire la connessione. Rifiuto persistente del computer di destinazione",
      "\nDuring handling of the above exception, another exception occurred:\n",
      "\u001b[1;31mURLError\u001b[0m                                  Traceback (most recent call last)",
      "\u001b[1;32mc:\\Users\\finnocenti\\Documents\\codici_fede\\algorand\\Algorand_Smart_Contract\\Learning_material\\Smart contract .ipynb Cell 7'\u001b[0m in \u001b[0;36m<cell line: 1>\u001b[1;34m()\u001b[0m\n\u001b[1;32m----> <a href='vscode-notebook-cell:/c%3A/Users/finnocenti/Documents/codici_fede/algorand/Algorand_Smart_Contract/Learning_material/Smart%20contract%20.ipynb#ch0000026?line=0'>1</a>\u001b[0m status \u001b[39m=\u001b[39m algod_client\u001b[39m.\u001b[39;49mstatus()\n\u001b[0;32m      <a href='vscode-notebook-cell:/c%3A/Users/finnocenti/Documents/codici_fede/algorand/Algorand_Smart_Contract/Learning_material/Smart%20contract%20.ipynb#ch0000026?line=1'>2</a>\u001b[0m \u001b[39mprint\u001b[39m(json\u001b[39m.\u001b[39mdumps(status, indent\u001b[39m=\u001b[39m\u001b[39m4\u001b[39m))\n",
      "File \u001b[1;32mc:\\Users\\finnocenti\\Anaconda3\\envs\\Algorand\\lib\\site-packages\\algosdk\\v2client\\algod.py:205\u001b[0m, in \u001b[0;36mAlgodClient.status\u001b[1;34m(self, **kwargs)\u001b[0m\n\u001b[0;32m    <a href='file:///c%3A/Users/finnocenti/Anaconda3/envs/Algorand/lib/site-packages/algosdk/v2client/algod.py?line=202'>203</a>\u001b[0m \u001b[39m\"\"\"Return node status.\"\"\"\u001b[39;00m\n\u001b[0;32m    <a href='file:///c%3A/Users/finnocenti/Anaconda3/envs/Algorand/lib/site-packages/algosdk/v2client/algod.py?line=203'>204</a>\u001b[0m req \u001b[39m=\u001b[39m \u001b[39m\"\u001b[39m\u001b[39m/status\u001b[39m\u001b[39m\"\u001b[39m\n\u001b[1;32m--> <a href='file:///c%3A/Users/finnocenti/Anaconda3/envs/Algorand/lib/site-packages/algosdk/v2client/algod.py?line=204'>205</a>\u001b[0m \u001b[39mreturn\u001b[39;00m \u001b[39mself\u001b[39m\u001b[39m.\u001b[39malgod_request(\u001b[39m\"\u001b[39m\u001b[39mGET\u001b[39m\u001b[39m\"\u001b[39m, req, \u001b[39m*\u001b[39m\u001b[39m*\u001b[39mkwargs)\n",
      "File \u001b[1;32mc:\\Users\\finnocenti\\Anaconda3\\envs\\Algorand\\lib\\site-packages\\algosdk\\v2client\\algod.py:78\u001b[0m, in \u001b[0;36mAlgodClient.algod_request\u001b[1;34m(self, method, requrl, params, data, headers, response_format)\u001b[0m\n\u001b[0;32m     <a href='file:///c%3A/Users/finnocenti/Anaconda3/envs/Algorand/lib/site-packages/algosdk/v2client/algod.py?line=69'>70</a>\u001b[0m req \u001b[39m=\u001b[39m Request(\n\u001b[0;32m     <a href='file:///c%3A/Users/finnocenti/Anaconda3/envs/Algorand/lib/site-packages/algosdk/v2client/algod.py?line=70'>71</a>\u001b[0m     \u001b[39mself\u001b[39m\u001b[39m.\u001b[39malgod_address \u001b[39m+\u001b[39m requrl,\n\u001b[0;32m     <a href='file:///c%3A/Users/finnocenti/Anaconda3/envs/Algorand/lib/site-packages/algosdk/v2client/algod.py?line=71'>72</a>\u001b[0m     headers\u001b[39m=\u001b[39mheader,\n\u001b[0;32m     <a href='file:///c%3A/Users/finnocenti/Anaconda3/envs/Algorand/lib/site-packages/algosdk/v2client/algod.py?line=72'>73</a>\u001b[0m     method\u001b[39m=\u001b[39mmethod,\n\u001b[0;32m     <a href='file:///c%3A/Users/finnocenti/Anaconda3/envs/Algorand/lib/site-packages/algosdk/v2client/algod.py?line=73'>74</a>\u001b[0m     data\u001b[39m=\u001b[39mdata,\n\u001b[0;32m     <a href='file:///c%3A/Users/finnocenti/Anaconda3/envs/Algorand/lib/site-packages/algosdk/v2client/algod.py?line=74'>75</a>\u001b[0m )\n\u001b[0;32m     <a href='file:///c%3A/Users/finnocenti/Anaconda3/envs/Algorand/lib/site-packages/algosdk/v2client/algod.py?line=76'>77</a>\u001b[0m \u001b[39mtry\u001b[39;00m:\n\u001b[1;32m---> <a href='file:///c%3A/Users/finnocenti/Anaconda3/envs/Algorand/lib/site-packages/algosdk/v2client/algod.py?line=77'>78</a>\u001b[0m     resp \u001b[39m=\u001b[39m urlopen(req)\n\u001b[0;32m     <a href='file:///c%3A/Users/finnocenti/Anaconda3/envs/Algorand/lib/site-packages/algosdk/v2client/algod.py?line=78'>79</a>\u001b[0m \u001b[39mexcept\u001b[39;00m urllib\u001b[39m.\u001b[39merror\u001b[39m.\u001b[39mHTTPError \u001b[39mas\u001b[39;00m e:\n\u001b[0;32m     <a href='file:///c%3A/Users/finnocenti/Anaconda3/envs/Algorand/lib/site-packages/algosdk/v2client/algod.py?line=79'>80</a>\u001b[0m     code \u001b[39m=\u001b[39m e\u001b[39m.\u001b[39mcode\n",
      "File \u001b[1;32mc:\\Users\\finnocenti\\Anaconda3\\envs\\Algorand\\lib\\urllib\\request.py:214\u001b[0m, in \u001b[0;36murlopen\u001b[1;34m(url, data, timeout, cafile, capath, cadefault, context)\u001b[0m\n\u001b[0;32m    <a href='file:///c%3A/Users/finnocenti/Anaconda3/envs/Algorand/lib/urllib/request.py?line=211'>212</a>\u001b[0m \u001b[39melse\u001b[39;00m:\n\u001b[0;32m    <a href='file:///c%3A/Users/finnocenti/Anaconda3/envs/Algorand/lib/urllib/request.py?line=212'>213</a>\u001b[0m     opener \u001b[39m=\u001b[39m _opener\n\u001b[1;32m--> <a href='file:///c%3A/Users/finnocenti/Anaconda3/envs/Algorand/lib/urllib/request.py?line=213'>214</a>\u001b[0m \u001b[39mreturn\u001b[39;00m opener\u001b[39m.\u001b[39;49mopen(url, data, timeout)\n",
      "File \u001b[1;32mc:\\Users\\finnocenti\\Anaconda3\\envs\\Algorand\\lib\\urllib\\request.py:517\u001b[0m, in \u001b[0;36mOpenerDirector.open\u001b[1;34m(self, fullurl, data, timeout)\u001b[0m\n\u001b[0;32m    <a href='file:///c%3A/Users/finnocenti/Anaconda3/envs/Algorand/lib/urllib/request.py?line=513'>514</a>\u001b[0m     req \u001b[39m=\u001b[39m meth(req)\n\u001b[0;32m    <a href='file:///c%3A/Users/finnocenti/Anaconda3/envs/Algorand/lib/urllib/request.py?line=515'>516</a>\u001b[0m sys\u001b[39m.\u001b[39maudit(\u001b[39m'\u001b[39m\u001b[39murllib.Request\u001b[39m\u001b[39m'\u001b[39m, req\u001b[39m.\u001b[39mfull_url, req\u001b[39m.\u001b[39mdata, req\u001b[39m.\u001b[39mheaders, req\u001b[39m.\u001b[39mget_method())\n\u001b[1;32m--> <a href='file:///c%3A/Users/finnocenti/Anaconda3/envs/Algorand/lib/urllib/request.py?line=516'>517</a>\u001b[0m response \u001b[39m=\u001b[39m \u001b[39mself\u001b[39;49m\u001b[39m.\u001b[39;49m_open(req, data)\n\u001b[0;32m    <a href='file:///c%3A/Users/finnocenti/Anaconda3/envs/Algorand/lib/urllib/request.py?line=518'>519</a>\u001b[0m \u001b[39m# post-process response\u001b[39;00m\n\u001b[0;32m    <a href='file:///c%3A/Users/finnocenti/Anaconda3/envs/Algorand/lib/urllib/request.py?line=519'>520</a>\u001b[0m meth_name \u001b[39m=\u001b[39m protocol\u001b[39m+\u001b[39m\u001b[39m\"\u001b[39m\u001b[39m_response\u001b[39m\u001b[39m\"\u001b[39m\n",
      "File \u001b[1;32mc:\\Users\\finnocenti\\Anaconda3\\envs\\Algorand\\lib\\urllib\\request.py:534\u001b[0m, in \u001b[0;36mOpenerDirector._open\u001b[1;34m(self, req, data)\u001b[0m\n\u001b[0;32m    <a href='file:///c%3A/Users/finnocenti/Anaconda3/envs/Algorand/lib/urllib/request.py?line=530'>531</a>\u001b[0m     \u001b[39mreturn\u001b[39;00m result\n\u001b[0;32m    <a href='file:///c%3A/Users/finnocenti/Anaconda3/envs/Algorand/lib/urllib/request.py?line=532'>533</a>\u001b[0m protocol \u001b[39m=\u001b[39m req\u001b[39m.\u001b[39mtype\n\u001b[1;32m--> <a href='file:///c%3A/Users/finnocenti/Anaconda3/envs/Algorand/lib/urllib/request.py?line=533'>534</a>\u001b[0m result \u001b[39m=\u001b[39m \u001b[39mself\u001b[39;49m\u001b[39m.\u001b[39;49m_call_chain(\u001b[39mself\u001b[39;49m\u001b[39m.\u001b[39;49mhandle_open, protocol, protocol \u001b[39m+\u001b[39;49m\n\u001b[0;32m    <a href='file:///c%3A/Users/finnocenti/Anaconda3/envs/Algorand/lib/urllib/request.py?line=534'>535</a>\u001b[0m                           \u001b[39m'\u001b[39;49m\u001b[39m_open\u001b[39;49m\u001b[39m'\u001b[39;49m, req)\n\u001b[0;32m    <a href='file:///c%3A/Users/finnocenti/Anaconda3/envs/Algorand/lib/urllib/request.py?line=535'>536</a>\u001b[0m \u001b[39mif\u001b[39;00m result:\n\u001b[0;32m    <a href='file:///c%3A/Users/finnocenti/Anaconda3/envs/Algorand/lib/urllib/request.py?line=536'>537</a>\u001b[0m     \u001b[39mreturn\u001b[39;00m result\n",
      "File \u001b[1;32mc:\\Users\\finnocenti\\Anaconda3\\envs\\Algorand\\lib\\urllib\\request.py:494\u001b[0m, in \u001b[0;36mOpenerDirector._call_chain\u001b[1;34m(self, chain, kind, meth_name, *args)\u001b[0m\n\u001b[0;32m    <a href='file:///c%3A/Users/finnocenti/Anaconda3/envs/Algorand/lib/urllib/request.py?line=491'>492</a>\u001b[0m \u001b[39mfor\u001b[39;00m handler \u001b[39min\u001b[39;00m handlers:\n\u001b[0;32m    <a href='file:///c%3A/Users/finnocenti/Anaconda3/envs/Algorand/lib/urllib/request.py?line=492'>493</a>\u001b[0m     func \u001b[39m=\u001b[39m \u001b[39mgetattr\u001b[39m(handler, meth_name)\n\u001b[1;32m--> <a href='file:///c%3A/Users/finnocenti/Anaconda3/envs/Algorand/lib/urllib/request.py?line=493'>494</a>\u001b[0m     result \u001b[39m=\u001b[39m func(\u001b[39m*\u001b[39;49margs)\n\u001b[0;32m    <a href='file:///c%3A/Users/finnocenti/Anaconda3/envs/Algorand/lib/urllib/request.py?line=494'>495</a>\u001b[0m     \u001b[39mif\u001b[39;00m result \u001b[39mis\u001b[39;00m \u001b[39mnot\u001b[39;00m \u001b[39mNone\u001b[39;00m:\n\u001b[0;32m    <a href='file:///c%3A/Users/finnocenti/Anaconda3/envs/Algorand/lib/urllib/request.py?line=495'>496</a>\u001b[0m         \u001b[39mreturn\u001b[39;00m result\n",
      "File \u001b[1;32mc:\\Users\\finnocenti\\Anaconda3\\envs\\Algorand\\lib\\urllib\\request.py:1375\u001b[0m, in \u001b[0;36mHTTPHandler.http_open\u001b[1;34m(self, req)\u001b[0m\n\u001b[0;32m   <a href='file:///c%3A/Users/finnocenti/Anaconda3/envs/Algorand/lib/urllib/request.py?line=1373'>1374</a>\u001b[0m \u001b[39mdef\u001b[39;00m \u001b[39mhttp_open\u001b[39m(\u001b[39mself\u001b[39m, req):\n\u001b[1;32m-> <a href='file:///c%3A/Users/finnocenti/Anaconda3/envs/Algorand/lib/urllib/request.py?line=1374'>1375</a>\u001b[0m     \u001b[39mreturn\u001b[39;00m \u001b[39mself\u001b[39;49m\u001b[39m.\u001b[39;49mdo_open(http\u001b[39m.\u001b[39;49mclient\u001b[39m.\u001b[39;49mHTTPConnection, req)\n",
      "File \u001b[1;32mc:\\Users\\finnocenti\\Anaconda3\\envs\\Algorand\\lib\\urllib\\request.py:1349\u001b[0m, in \u001b[0;36mAbstractHTTPHandler.do_open\u001b[1;34m(self, http_class, req, **http_conn_args)\u001b[0m\n\u001b[0;32m   <a href='file:///c%3A/Users/finnocenti/Anaconda3/envs/Algorand/lib/urllib/request.py?line=1345'>1346</a>\u001b[0m         h\u001b[39m.\u001b[39mrequest(req\u001b[39m.\u001b[39mget_method(), req\u001b[39m.\u001b[39mselector, req\u001b[39m.\u001b[39mdata, headers,\n\u001b[0;32m   <a href='file:///c%3A/Users/finnocenti/Anaconda3/envs/Algorand/lib/urllib/request.py?line=1346'>1347</a>\u001b[0m                   encode_chunked\u001b[39m=\u001b[39mreq\u001b[39m.\u001b[39mhas_header(\u001b[39m'\u001b[39m\u001b[39mTransfer-encoding\u001b[39m\u001b[39m'\u001b[39m))\n\u001b[0;32m   <a href='file:///c%3A/Users/finnocenti/Anaconda3/envs/Algorand/lib/urllib/request.py?line=1347'>1348</a>\u001b[0m     \u001b[39mexcept\u001b[39;00m \u001b[39mOSError\u001b[39;00m \u001b[39mas\u001b[39;00m err: \u001b[39m# timeout error\u001b[39;00m\n\u001b[1;32m-> <a href='file:///c%3A/Users/finnocenti/Anaconda3/envs/Algorand/lib/urllib/request.py?line=1348'>1349</a>\u001b[0m         \u001b[39mraise\u001b[39;00m URLError(err)\n\u001b[0;32m   <a href='file:///c%3A/Users/finnocenti/Anaconda3/envs/Algorand/lib/urllib/request.py?line=1349'>1350</a>\u001b[0m     r \u001b[39m=\u001b[39m h\u001b[39m.\u001b[39mgetresponse()\n\u001b[0;32m   <a href='file:///c%3A/Users/finnocenti/Anaconda3/envs/Algorand/lib/urllib/request.py?line=1350'>1351</a>\u001b[0m \u001b[39mexcept\u001b[39;00m:\n",
      "\u001b[1;31mURLError\u001b[0m: <urlopen error [WinError 10061] Impossibile stabilire la connessione. Rifiuto persistente del computer di destinazione>"
     ]
    }
   ],
   "source": [
    "status = algod_client.status()\n",
    "print(json.dumps(status, indent=4))"
   ]
  },
  {
   "cell_type": "code",
   "execution_count": null,
   "metadata": {},
   "outputs": [],
   "source": []
  },
  {
   "cell_type": "markdown",
   "metadata": {},
   "source": [
    "https://developer.algorand.org/docs/archive/build-apps/connect/"
   ]
  },
  {
   "cell_type": "code",
   "execution_count": 27,
   "metadata": {},
   "outputs": [],
   "source": [
    "from algosdk.v2client import algod"
   ]
  },
  {
   "cell_type": "code",
   "execution_count": 30,
   "metadata": {},
   "outputs": [],
   "source": [
    "algod_address = 'https://testnet-algorand.api.purestake.io/ps2'\n",
    "algod_token = 'gZ2MTj04rFaGvTvxHWelH1zYZpGA0G1j3Vgh3q5a'\n",
    "algod_client = algod.AlgodClient(algod_token, algod_address)"
   ]
  },
  {
   "cell_type": "code",
   "execution_count": 29,
   "metadata": {},
   "outputs": [
    {
     "ename": "AlgodHTTPError",
     "evalue": "Forbidden",
     "output_type": "error",
     "traceback": [
      "\u001b[1;31m---------------------------------------------------------------------------\u001b[0m",
      "\u001b[1;31mHTTPError\u001b[0m                                 Traceback (most recent call last)",
      "File \u001b[1;32mc:\\Users\\finnocenti\\Anaconda3\\envs\\Algorand\\lib\\site-packages\\algosdk\\v2client\\algod.py:78\u001b[0m, in \u001b[0;36mAlgodClient.algod_request\u001b[1;34m(self, method, requrl, params, data, headers, response_format)\u001b[0m\n\u001b[0;32m     <a href='file:///c%3A/Users/finnocenti/Anaconda3/envs/Algorand/lib/site-packages/algosdk/v2client/algod.py?line=76'>77</a>\u001b[0m \u001b[39mtry\u001b[39;00m:\n\u001b[1;32m---> <a href='file:///c%3A/Users/finnocenti/Anaconda3/envs/Algorand/lib/site-packages/algosdk/v2client/algod.py?line=77'>78</a>\u001b[0m     resp \u001b[39m=\u001b[39m urlopen(req)\n\u001b[0;32m     <a href='file:///c%3A/Users/finnocenti/Anaconda3/envs/Algorand/lib/site-packages/algosdk/v2client/algod.py?line=78'>79</a>\u001b[0m \u001b[39mexcept\u001b[39;00m urllib\u001b[39m.\u001b[39merror\u001b[39m.\u001b[39mHTTPError \u001b[39mas\u001b[39;00m e:\n",
      "File \u001b[1;32mc:\\Users\\finnocenti\\Anaconda3\\envs\\Algorand\\lib\\urllib\\request.py:214\u001b[0m, in \u001b[0;36murlopen\u001b[1;34m(url, data, timeout, cafile, capath, cadefault, context)\u001b[0m\n\u001b[0;32m    <a href='file:///c%3A/Users/finnocenti/Anaconda3/envs/Algorand/lib/urllib/request.py?line=212'>213</a>\u001b[0m     opener \u001b[39m=\u001b[39m _opener\n\u001b[1;32m--> <a href='file:///c%3A/Users/finnocenti/Anaconda3/envs/Algorand/lib/urllib/request.py?line=213'>214</a>\u001b[0m \u001b[39mreturn\u001b[39;00m opener\u001b[39m.\u001b[39;49mopen(url, data, timeout)\n",
      "File \u001b[1;32mc:\\Users\\finnocenti\\Anaconda3\\envs\\Algorand\\lib\\urllib\\request.py:523\u001b[0m, in \u001b[0;36mOpenerDirector.open\u001b[1;34m(self, fullurl, data, timeout)\u001b[0m\n\u001b[0;32m    <a href='file:///c%3A/Users/finnocenti/Anaconda3/envs/Algorand/lib/urllib/request.py?line=521'>522</a>\u001b[0m     meth \u001b[39m=\u001b[39m \u001b[39mgetattr\u001b[39m(processor, meth_name)\n\u001b[1;32m--> <a href='file:///c%3A/Users/finnocenti/Anaconda3/envs/Algorand/lib/urllib/request.py?line=522'>523</a>\u001b[0m     response \u001b[39m=\u001b[39m meth(req, response)\n\u001b[0;32m    <a href='file:///c%3A/Users/finnocenti/Anaconda3/envs/Algorand/lib/urllib/request.py?line=524'>525</a>\u001b[0m \u001b[39mreturn\u001b[39;00m response\n",
      "File \u001b[1;32mc:\\Users\\finnocenti\\Anaconda3\\envs\\Algorand\\lib\\urllib\\request.py:632\u001b[0m, in \u001b[0;36mHTTPErrorProcessor.http_response\u001b[1;34m(self, request, response)\u001b[0m\n\u001b[0;32m    <a href='file:///c%3A/Users/finnocenti/Anaconda3/envs/Algorand/lib/urllib/request.py?line=630'>631</a>\u001b[0m \u001b[39mif\u001b[39;00m \u001b[39mnot\u001b[39;00m (\u001b[39m200\u001b[39m \u001b[39m<\u001b[39m\u001b[39m=\u001b[39m code \u001b[39m<\u001b[39m \u001b[39m300\u001b[39m):\n\u001b[1;32m--> <a href='file:///c%3A/Users/finnocenti/Anaconda3/envs/Algorand/lib/urllib/request.py?line=631'>632</a>\u001b[0m     response \u001b[39m=\u001b[39m \u001b[39mself\u001b[39;49m\u001b[39m.\u001b[39;49mparent\u001b[39m.\u001b[39;49merror(\n\u001b[0;32m    <a href='file:///c%3A/Users/finnocenti/Anaconda3/envs/Algorand/lib/urllib/request.py?line=632'>633</a>\u001b[0m         \u001b[39m'\u001b[39;49m\u001b[39mhttp\u001b[39;49m\u001b[39m'\u001b[39;49m, request, response, code, msg, hdrs)\n\u001b[0;32m    <a href='file:///c%3A/Users/finnocenti/Anaconda3/envs/Algorand/lib/urllib/request.py?line=634'>635</a>\u001b[0m \u001b[39mreturn\u001b[39;00m response\n",
      "File \u001b[1;32mc:\\Users\\finnocenti\\Anaconda3\\envs\\Algorand\\lib\\urllib\\request.py:561\u001b[0m, in \u001b[0;36mOpenerDirector.error\u001b[1;34m(self, proto, *args)\u001b[0m\n\u001b[0;32m    <a href='file:///c%3A/Users/finnocenti/Anaconda3/envs/Algorand/lib/urllib/request.py?line=559'>560</a>\u001b[0m args \u001b[39m=\u001b[39m (\u001b[39mdict\u001b[39m, \u001b[39m'\u001b[39m\u001b[39mdefault\u001b[39m\u001b[39m'\u001b[39m, \u001b[39m'\u001b[39m\u001b[39mhttp_error_default\u001b[39m\u001b[39m'\u001b[39m) \u001b[39m+\u001b[39m orig_args\n\u001b[1;32m--> <a href='file:///c%3A/Users/finnocenti/Anaconda3/envs/Algorand/lib/urllib/request.py?line=560'>561</a>\u001b[0m \u001b[39mreturn\u001b[39;00m \u001b[39mself\u001b[39;49m\u001b[39m.\u001b[39;49m_call_chain(\u001b[39m*\u001b[39;49margs)\n",
      "File \u001b[1;32mc:\\Users\\finnocenti\\Anaconda3\\envs\\Algorand\\lib\\urllib\\request.py:494\u001b[0m, in \u001b[0;36mOpenerDirector._call_chain\u001b[1;34m(self, chain, kind, meth_name, *args)\u001b[0m\n\u001b[0;32m    <a href='file:///c%3A/Users/finnocenti/Anaconda3/envs/Algorand/lib/urllib/request.py?line=492'>493</a>\u001b[0m func \u001b[39m=\u001b[39m \u001b[39mgetattr\u001b[39m(handler, meth_name)\n\u001b[1;32m--> <a href='file:///c%3A/Users/finnocenti/Anaconda3/envs/Algorand/lib/urllib/request.py?line=493'>494</a>\u001b[0m result \u001b[39m=\u001b[39m func(\u001b[39m*\u001b[39;49margs)\n\u001b[0;32m    <a href='file:///c%3A/Users/finnocenti/Anaconda3/envs/Algorand/lib/urllib/request.py?line=494'>495</a>\u001b[0m \u001b[39mif\u001b[39;00m result \u001b[39mis\u001b[39;00m \u001b[39mnot\u001b[39;00m \u001b[39mNone\u001b[39;00m:\n",
      "File \u001b[1;32mc:\\Users\\finnocenti\\Anaconda3\\envs\\Algorand\\lib\\urllib\\request.py:641\u001b[0m, in \u001b[0;36mHTTPDefaultErrorHandler.http_error_default\u001b[1;34m(self, req, fp, code, msg, hdrs)\u001b[0m\n\u001b[0;32m    <a href='file:///c%3A/Users/finnocenti/Anaconda3/envs/Algorand/lib/urllib/request.py?line=639'>640</a>\u001b[0m \u001b[39mdef\u001b[39;00m \u001b[39mhttp_error_default\u001b[39m(\u001b[39mself\u001b[39m, req, fp, code, msg, hdrs):\n\u001b[1;32m--> <a href='file:///c%3A/Users/finnocenti/Anaconda3/envs/Algorand/lib/urllib/request.py?line=640'>641</a>\u001b[0m     \u001b[39mraise\u001b[39;00m HTTPError(req\u001b[39m.\u001b[39mfull_url, code, msg, hdrs, fp)\n",
      "\u001b[1;31mHTTPError\u001b[0m: HTTP Error 403: Forbidden",
      "\nDuring handling of the above exception, another exception occurred:\n",
      "\u001b[1;31mAlgodHTTPError\u001b[0m                            Traceback (most recent call last)",
      "Input \u001b[1;32mIn [29]\u001b[0m, in \u001b[0;36m<cell line: 1>\u001b[1;34m()\u001b[0m\n\u001b[1;32m----> 1\u001b[0m status \u001b[39m=\u001b[39m algod_client\u001b[39m.\u001b[39;49mstatus()\n\u001b[0;32m      2\u001b[0m \u001b[39mprint\u001b[39m(json\u001b[39m.\u001b[39mdumps(status, indent\u001b[39m=\u001b[39m\u001b[39m4\u001b[39m))\n",
      "File \u001b[1;32mc:\\Users\\finnocenti\\Anaconda3\\envs\\Algorand\\lib\\site-packages\\algosdk\\v2client\\algod.py:205\u001b[0m, in \u001b[0;36mAlgodClient.status\u001b[1;34m(self, **kwargs)\u001b[0m\n\u001b[0;32m    <a href='file:///c%3A/Users/finnocenti/Anaconda3/envs/Algorand/lib/site-packages/algosdk/v2client/algod.py?line=202'>203</a>\u001b[0m \u001b[39m\"\"\"Return node status.\"\"\"\u001b[39;00m\n\u001b[0;32m    <a href='file:///c%3A/Users/finnocenti/Anaconda3/envs/Algorand/lib/site-packages/algosdk/v2client/algod.py?line=203'>204</a>\u001b[0m req \u001b[39m=\u001b[39m \u001b[39m\"\u001b[39m\u001b[39m/status\u001b[39m\u001b[39m\"\u001b[39m\n\u001b[1;32m--> <a href='file:///c%3A/Users/finnocenti/Anaconda3/envs/Algorand/lib/site-packages/algosdk/v2client/algod.py?line=204'>205</a>\u001b[0m \u001b[39mreturn\u001b[39;00m \u001b[39mself\u001b[39m\u001b[39m.\u001b[39malgod_request(\u001b[39m\"\u001b[39m\u001b[39mGET\u001b[39m\u001b[39m\"\u001b[39m, req, \u001b[39m*\u001b[39m\u001b[39m*\u001b[39mkwargs)\n",
      "File \u001b[1;32mc:\\Users\\finnocenti\\Anaconda3\\envs\\Algorand\\lib\\site-packages\\algosdk\\v2client\\algod.py:85\u001b[0m, in \u001b[0;36mAlgodClient.algod_request\u001b[1;34m(self, method, requrl, params, data, headers, response_format)\u001b[0m\n\u001b[0;32m     <a href='file:///c%3A/Users/finnocenti/Anaconda3/envs/Algorand/lib/site-packages/algosdk/v2client/algod.py?line=82'>83</a>\u001b[0m         e \u001b[39m=\u001b[39m json\u001b[39m.\u001b[39mloads(e)[\u001b[39m\"\u001b[39m\u001b[39mmessage\u001b[39m\u001b[39m\"\u001b[39m]\n\u001b[0;32m     <a href='file:///c%3A/Users/finnocenti/Anaconda3/envs/Algorand/lib/site-packages/algosdk/v2client/algod.py?line=83'>84</a>\u001b[0m     \u001b[39mfinally\u001b[39;00m:\n\u001b[1;32m---> <a href='file:///c%3A/Users/finnocenti/Anaconda3/envs/Algorand/lib/site-packages/algosdk/v2client/algod.py?line=84'>85</a>\u001b[0m         \u001b[39mraise\u001b[39;00m error\u001b[39m.\u001b[39mAlgodHTTPError(e, code)\n\u001b[0;32m     <a href='file:///c%3A/Users/finnocenti/Anaconda3/envs/Algorand/lib/site-packages/algosdk/v2client/algod.py?line=85'>86</a>\u001b[0m \u001b[39mif\u001b[39;00m response_format \u001b[39m==\u001b[39m \u001b[39m\"\u001b[39m\u001b[39mjson\u001b[39m\u001b[39m\"\u001b[39m:\n\u001b[0;32m     <a href='file:///c%3A/Users/finnocenti/Anaconda3/envs/Algorand/lib/site-packages/algosdk/v2client/algod.py?line=86'>87</a>\u001b[0m     \u001b[39mtry\u001b[39;00m:\n",
      "\u001b[1;31mAlgodHTTPError\u001b[0m: Forbidden"
     ]
    }
   ],
   "source": [
    "status = algod_client.status()\n",
    "print(json.dumps(status, indent=4))"
   ]
  },
  {
   "cell_type": "code",
   "execution_count": 31,
   "metadata": {},
   "outputs": [
    {
     "name": "stdout",
     "output_type": "stream",
     "text": [
      "Forbidden\n"
     ]
    }
   ],
   "source": [
    "try:\n",
    "    params = algod_client.suggested_params()\n",
    "    print(json.dumps(vars(params), indent=4))\n",
    "except Exception as e:\n",
    "    print(e)"
   ]
  },
  {
   "cell_type": "code",
   "execution_count": null,
   "metadata": {},
   "outputs": [],
   "source": []
  },
  {
   "cell_type": "code",
   "execution_count": null,
   "metadata": {},
   "outputs": [],
   "source": []
  },
  {
   "cell_type": "markdown",
   "metadata": {},
   "source": [
    "Code: https://gist.github.com/nullun/bec1de91438f90f9edb372c950156a07"
   ]
  },
  {
   "cell_type": "code",
   "execution_count": 1,
   "metadata": {},
   "outputs": [],
   "source": [
    "from algosdk import *\n",
    "from pyteal import *"
   ]
  },
  {
   "cell_type": "code",
   "execution_count": 3,
   "metadata": {},
   "outputs": [],
   "source": [
    "\n",
    "# Account details (add your mnemonic here)\n",
    "mn = 'blind asset click wide gaze wild cruel mountain volume truth jeans trash alien beauty charge ladder thank hammer shock laptop donkey hazard bronze abstract robot'\n",
    "try:\n",
    "    pk = mnemonic.to_public_key(mn)  # Public Key\n",
    "    sk = mnemonic.to_private_key(mn) # Secret Key\n",
    "except error.WrongMnemonicLengthError:\n",
    "    quit(f\"Invalid mnemonic. Please update your mnemonic before running.\")\n"
   ]
  },
  {
   "cell_type": "code",
   "execution_count": 13,
   "metadata": {},
   "outputs": [],
   "source": [
    "\n",
    "# Connect to an algod node. (use a node of your choice here)\n",
    "algod_token  = 'gZ2MTj04rFaGvTvxHWelH1zYZpGA0G1j3Vgh3q5a' # Algod API Key\n",
    "algod_addr   = 'https://testnet-algorand.api.purestake.io/ps2' # Algod Node Address\n",
    "# solved thanks to https://developer.purestake.io/apis/afvvv1yrge/prod\n",
    "\n",
    "algod_header = {\n",
    "    'User-Agent': 'Minimal-PyTeal-SDK-Demo/0.1',\n",
    "    'X-API-Key': algod_token\n",
    "}\n",
    "algod_client = v2client.algod.AlgodClient(\n",
    "    algod_token,\n",
    "    algod_addr,\n",
    "    algod_header\n",
    ")\n",
    "try:\n",
    "    algod_client.status()\n",
    "except error.AlgodHTTPError:\n",
    "    quit(f\"algod node connection failure. Check the host and API key are correct.\")"
   ]
  },
  {
   "cell_type": "code",
   "execution_count": 23,
   "metadata": {},
   "outputs": [
    {
     "name": "stdout",
     "output_type": "stream",
     "text": [
      "{'catchpoint': '', 'catchpoint-acquired-blocks': 0, 'catchpoint-processed-accounts': 0, 'catchpoint-total-accounts': 0, 'catchpoint-total-blocks': 0, 'catchpoint-verified-accounts': 0, 'catchup-time': 0, 'last-catchpoint': '21760000#3UX4ELEEKZMIXGFUGAGLJOFUDBWIZEJHX37P4YSOD3QE62E63LMQ', 'last-round': 21766078, 'last-version': 'https://github.com/algorandfoundation/specs/tree/d5ac876d7ede07367dbaa26e149aa42589aac1f7', 'next-version': 'https://github.com/algorandfoundation/specs/tree/d5ac876d7ede07367dbaa26e149aa42589aac1f7', 'next-version-round': 21766079, 'next-version-supported': True, 'stopped-at-unsupported-round': False, 'time-since-last-round': 758154218}\n"
     ]
    }
   ],
   "source": [
    "status = algod_client.status()\n",
    "print((status))"
   ]
  },
  {
   "cell_type": "code",
   "execution_count": 26,
   "metadata": {},
   "outputs": [
    {
     "name": "stdout",
     "output_type": "stream",
     "text": [
      "name 'json' is not defined\n"
     ]
    }
   ],
   "source": [
    " try:\n",
    "    params = algod_client.suggested_params()\n",
    "    print(json.dumps(vars(params), indent=4))\n",
    "except Exception as e:\n",
    "    print(e)"
   ]
  },
  {
   "cell_type": "code",
   "execution_count": null,
   "metadata": {},
   "outputs": [],
   "source": []
  },
  {
   "cell_type": "code",
   "execution_count": null,
   "metadata": {},
   "outputs": [],
   "source": []
  },
  {
   "cell_type": "code",
   "execution_count": 18,
   "metadata": {},
   "outputs": [],
   "source": [
    "# Define our Approval Contract.\n",
    "def approval_contract():\n",
    "    return Return(Int(1))\n",
    "\n",
    "# Define our ClearState Program.\n",
    "def clearstate_contract():\n",
    "    return Return(Int(1))\n"
   ]
  },
  {
   "cell_type": "code",
   "execution_count": 19,
   "metadata": {},
   "outputs": [],
   "source": [
    "# Prepare our contract for sending to the network.\n",
    "# First convert the PyTeal to TEAL\n",
    "approval_teal   = compileTeal(approval_contract(), Mode.Application, version=5)\n",
    "clearstate_teal = compileTeal(clearstate_contract(), Mode.Application, version=5)\n",
    "# Next compile our TEAL to bytecode. (it's returned in base64)\n",
    "approval_b64   = algod_client.compile(approval_teal)['result']\n",
    "clearstate_b64 = algod_client.compile(clearstate_teal)['result']\n",
    "# Lastly decode the base64.\n",
    "approval_prog   = encoding.base64.b64decode(approval_b64)\n",
    "clearstate_prog = encoding.base64.b64decode(clearstate_b64)"
   ]
  },
  {
   "cell_type": "code",
   "execution_count": 20,
   "metadata": {},
   "outputs": [
    {
     "data": {
      "text/plain": [
       "<algosdk.future.transaction.SuggestedParams at 0x19ad02c3ee0>"
      ]
     },
     "execution_count": 20,
     "metadata": {},
     "output_type": "execute_result"
    }
   ],
   "source": [
    "algod_client.suggested_params()"
   ]
  },
  {
   "cell_type": "code",
   "execution_count": null,
   "metadata": {},
   "outputs": [],
   "source": []
  },
  {
   "cell_type": "code",
   "execution_count": null,
   "metadata": {},
   "outputs": [],
   "source": []
  },
  {
   "cell_type": "code",
   "execution_count": null,
   "metadata": {},
   "outputs": [],
   "source": []
  },
  {
   "cell_type": "code",
   "execution_count": null,
   "metadata": {},
   "outputs": [],
   "source": []
  },
  {
   "cell_type": "code",
   "execution_count": null,
   "metadata": {},
   "outputs": [],
   "source": [
    "\n",
    "from algosdk import *\n",
    "from pyteal import *\n",
    "\n",
    "# Account details (add your mnemonic here)\n",
    "mn = ''\n",
    "try:\n",
    "    pk = mnemonic.to_public_key(mn)  # Public Key\n",
    "    sk = mnemonic.to_private_key(mn) # Secret Key\n",
    "except error.WrongMnemonicLengthError:\n",
    "    quit(f\"Invalid mnemonic. Please update your mnemonic before running.\")\n",
    "\n",
    "# Connect to an algod node. (use a node of your choice here)\n",
    "algod_token  = '' # Algod API Key\n",
    "algod_addr   = '' # Algod Node Address\n",
    "algod_header = {\n",
    "    'User-Agent': 'Minimal-PyTeal-SDK-Demo/0.1',\n",
    "    'X-API-Key': algod_token\n",
    "}\n",
    "algod_client = v2client.algod.AlgodClient(\n",
    "    algod_token,\n",
    "    algod_addr,\n",
    "    algod_header\n",
    ")\n",
    "try:\n",
    "    algod_client.status()\n",
    "except error.AlgodHTTPError:\n",
    "    quit(f\"algod node connection failure. Check the host and API key are correct.\")\n",
    "\n",
    "# Define our Approval Contract.\n",
    "def approval_contract():\n",
    "    return Return(Int(1))\n",
    "\n",
    "# Define our ClearState Program.\n",
    "def clearstate_contract():\n",
    "    return Return(Int(1))\n",
    "\n",
    "# Prepare our contract for sending to the network.\n",
    "# First convert the PyTeal to TEAL\n",
    "approval_teal   = compileTeal(approval_contract(), Mode.Application, version=5)\n",
    "clearstate_teal = compileTeal(clearstate_contract(), Mode.Application, version=5)\n",
    "# Next compile our TEAL to bytecode. (it's returned in base64)\n",
    "approval_b64   = algod_client.compile(approval_teal)['result']\n",
    "clearstate_b64 = algod_client.compile(clearstate_teal)['result']\n",
    "# Lastly decode the base64.\n",
    "approval_prog   = encoding.base64.b64decode(approval_b64)\n",
    "clearstate_prog = encoding.base64.b64decode(clearstate_b64)\n",
    "\n",
    "# Create a transaction to deploy the contract\n",
    "# Obtain the current network suggested parameters.\n",
    "sp = algod_client.suggested_params()\n",
    "sp.flat_fee = True\n",
    "sp.fee = 1_000\n",
    "# Create an application call transaction without an application ID (aka Create)\n",
    "txn = future.transaction.ApplicationCreateTxn(\n",
    "    pk,\n",
    "    sp,\n",
    "    future.transaction.OnComplete.NoOpOC,\n",
    "    approval_prog,\n",
    "    clearstate_prog,\n",
    "    future.transaction.StateSchema(0, 0),\n",
    "    future.transaction.StateSchema(0, 0)\n",
    ")\n",
    "\n",
    "# Sign and send the transaction to the node!\n",
    "print(f\"Deploying application...\")\n",
    "txid = algod_client.send_transaction(txn.sign(sk))\n",
    "future.transaction.wait_for_confirmation(algod_client, txid)\n",
    "print(f\"Application deployed with transaction: {txid}\")\n",
    "print(f\"https://goalseeker.purestake.io/algorand/testnet/transaction/{txid}\")\n",
    "print(f\"https://testnet.algoexplorer.io/tx/{txid}\")"
   ]
  },
  {
   "cell_type": "markdown",
   "metadata": {},
   "source": [
    "1 - Lesson 1 Simple Smart Contract"
   ]
  },
  {
   "cell_type": "code",
   "execution_count": null,
   "metadata": {},
   "outputs": [],
   "source": []
  },
  {
   "cell_type": "code",
   "execution_count": null,
   "metadata": {},
   "outputs": [],
   "source": []
  },
  {
   "cell_type": "code",
   "execution_count": null,
   "metadata": {},
   "outputs": [],
   "source": []
  },
  {
   "cell_type": "code",
   "execution_count": null,
   "metadata": {},
   "outputs": [],
   "source": []
  },
  {
   "cell_type": "code",
   "execution_count": null,
   "metadata": {},
   "outputs": [],
   "source": []
  },
  {
   "cell_type": "code",
   "execution_count": null,
   "metadata": {},
   "outputs": [],
   "source": []
  },
  {
   "cell_type": "code",
   "execution_count": null,
   "metadata": {},
   "outputs": [],
   "source": []
  },
  {
   "cell_type": "code",
   "execution_count": null,
   "metadata": {},
   "outputs": [],
   "source": []
  }
 ],
 "metadata": {
  "interpreter": {
   "hash": "69fcab5f20d659fa04e86004596a10e4c49d2d0e7254732b4a6cda7f396382fe"
  },
  "kernelspec": {
   "display_name": "Python 3.9.12 ('Algorand')",
   "language": "python",
   "name": "python3"
  },
  "language_info": {
   "codemirror_mode": {
    "name": "ipython",
    "version": 3
   },
   "file_extension": ".py",
   "mimetype": "text/x-python",
   "name": "python",
   "nbconvert_exporter": "python",
   "pygments_lexer": "ipython3",
   "version": "3.9.12"
  },
  "orig_nbformat": 4
 },
 "nbformat": 4,
 "nbformat_minor": 2
}
